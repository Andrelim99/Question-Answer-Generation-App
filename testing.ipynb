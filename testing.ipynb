{
 "cells": [
  {
   "cell_type": "code",
   "execution_count": 153,
   "metadata": {},
   "outputs": [],
   "source": [
    "import vertexai\n",
    "from vertexai.language_models import TextGenerationModel\n",
    "from dotenv import load_dotenv\n",
    "import os\n",
    "\n",
    "load_dotenv()\n",
    "\n",
    "PROJECT = os.getenv(\"PROJECT\")\n",
    "LOCATION = \"asia-southeast1\"\n",
    "\n",
    "vertexai.init(project=PROJECT, location=LOCATION)\n",
    "# parameters = {\n",
    "#     \"candidate_count\": 1,\n",
    "#     \"max_output_tokens\": 1024,\n",
    "#     \"temperature\": 0.9,\n",
    "#     \"top_p\": 1\n",
    "# }\n",
    "model = TextGenerationModel.from_pretrained(\"text-bison\")"
   ]
  },
  {
   "cell_type": "code",
   "execution_count": 60,
   "metadata": {},
   "outputs": [
    {
     "name": "stdout",
     "output_type": "stream",
     "text": [
      "LangChain version: 0.1.12\n",
      "Vertex AI SDK version: 1.44.0\n"
     ]
    }
   ],
   "source": [
    "# Utils\n",
    "import time\n",
    "from typing import List\n",
    "\n",
    "# Langchain\n",
    "import langchain\n",
    "\n",
    "print(f\"LangChain version: {langchain.__version__}\")\n",
    "\n",
    "# Vertex AI\n",
    "# from langchain.llms import VertexAI\n",
    "\n",
    "from google.cloud import aiplatform\n",
    "from langchain_google_vertexai import ChatVertexAI\n",
    "from langchain_google_vertexai import VertexAIEmbeddings\n",
    "from langchain_google_vertexai import VertexAI\n",
    "from langchain.schema import HumanMessage, SystemMessage\n",
    "\n",
    "print(f\"Vertex AI SDK version: {aiplatform.__version__}\")"
   ]
  },
  {
   "cell_type": "markdown",
   "metadata": {},
   "source": [
    "# LLM\n",
    "- temperature: Randomness/creativity in output\n",
    "- token_limit: max amt of text output from one prompt\n",
    "- top-k: token selected from top k options (based on probability)\n",
    "- top-p: affects tokens selected for output as well -> select possible tokens to output till their probabilities sums to top-p. Choose among those tokens (based on temp)"
   ]
  },
  {
   "cell_type": "code",
   "execution_count": 61,
   "metadata": {},
   "outputs": [],
   "source": [
    "# Utility functions for Embeddings API with rate limiting\n",
    "def rate_limit(max_per_minute):\n",
    "    period = 60 / max_per_minute\n",
    "    print(\"Waiting\")\n",
    "    while True:\n",
    "        before = time.time()\n",
    "        yield\n",
    "        after = time.time()\n",
    "        elapsed = after - before\n",
    "        sleep_time = max(0, period - elapsed)\n",
    "        if sleep_time > 0:\n",
    "            print(\".\", end=\"\")\n",
    "            time.sleep(sleep_time)\n",
    "\n",
    "\n",
    "class CustomVertexAIEmbeddings(VertexAIEmbeddings):\n",
    "    requests_per_minute: int\n",
    "    num_instances_per_batch: int\n",
    "\n",
    "    # Overriding embed_documents method\n",
    "    def embed_documents(self, texts: List[str]):\n",
    "        limiter = rate_limit(self.requests_per_minute)\n",
    "        results = []\n",
    "        docs = list(texts)\n",
    "\n",
    "        while docs:\n",
    "            # Working in batches because the API accepts maximum 5\n",
    "            # documents per request to get embeddings\n",
    "            head, docs = (\n",
    "                docs[: self.num_instances_per_batch],\n",
    "                docs[self.num_instances_per_batch :],\n",
    "            )\n",
    "            chunk = self.client.get_embeddings(head)\n",
    "            results.extend(chunk)\n",
    "            next(limiter)\n",
    "\n",
    "        return [r.values for r in results]"
   ]
  },
  {
   "cell_type": "code",
   "execution_count": 146,
   "metadata": {},
   "outputs": [
    {
     "name": "stderr",
     "output_type": "stream",
     "text": [
      "Model_name will become a required arg for VertexAIEmbeddings starting from Feb-01-2024. Currently the default is set to textembedding-gecko@001\n"
     ]
    }
   ],
   "source": [
    "# LLM model\n",
    "ans_parameters = {\n",
    "    # \"candidate_count\": 1,\n",
    "    \"model_name\":\"text-bison\",\n",
    "    \"max_output_tokens\": 512,\n",
    "    \"temperature\": 0.1,\n",
    "    \"top_p\": 0.8,\n",
    "    \"top_k\": 40,\n",
    "    \"verbose\": True,\n",
    "}\n",
    "\n",
    "ques_parameters = {\n",
    "    # \"candidate_count\": 1,\n",
    "    \"model_name\":\"text-bison\",\n",
    "    \"max_output_tokens\": 2048,\n",
    "    \"temperature\": 0.3,\n",
    "    \"top_p\": 0.8,\n",
    "    \"top_k\": 40,\n",
    "    \"verbose\": True,\n",
    "}\n",
    "\n",
    "# Minimise randomness\n",
    "answer_llm = VertexAI( **ans_parameters)\n",
    "#     model_name=\"text-bison\",\n",
    "#     max_output_tokens=512,\n",
    "#     temperature=0.1,\n",
    "#     top_p=0.8,\n",
    "#     top_k=40,\n",
    "#     verbose=True,\n",
    "# )\n",
    "\n",
    "# Ok to be random\n",
    "question_llm = VertexAI(**ques_parameters)\n",
    "\n",
    "# Chat\n",
    "chat = ChatVertexAI()\n",
    "\n",
    "# Embedding\n",
    "EMBEDDING_QPM = 15\n",
    "EMBEDDING_NUM_BATCH = 2\n",
    "embeddings = CustomVertexAIEmbeddings(\n",
    "    requests_per_minute=EMBEDDING_QPM,\n",
    "    num_instances_per_batch=EMBEDDING_NUM_BATCH,\n",
    ")"
   ]
  },
  {
   "cell_type": "markdown",
   "metadata": {},
   "source": [
    "# Reading from PDFs"
   ]
  },
  {
   "cell_type": "code",
   "execution_count": 63,
   "metadata": {},
   "outputs": [],
   "source": [
    "# Ingest PDF files\n",
    "from langchain.document_loaders import PyPDFLoader\n",
    "from langchain.docstore.document import Document\n",
    "from langchain.text_splitter import RecursiveCharacterTextSplitter, TokenTextSplitter\n",
    "\n",
    "file_path = \"Lec1.pdf\"\n",
    "loader = PyPDFLoader(file_path)\n",
    "documents = loader.load()"
   ]
  },
  {
   "cell_type": "code",
   "execution_count": 64,
   "metadata": {},
   "outputs": [
    {
     "data": {
      "text/plain": [
       "54"
      ]
     },
     "execution_count": 64,
     "metadata": {},
     "output_type": "execute_result"
    }
   ],
   "source": [
    "len(documents)"
   ]
  },
  {
   "cell_type": "code",
   "execution_count": 65,
   "metadata": {},
   "outputs": [
    {
     "name": "stdout",
     "output_type": "stream",
     "text": [
      "# of documents = 54\n"
     ]
    }
   ],
   "source": [
    "# split the documents into chunks\n",
    "text_splitter = RecursiveCharacterTextSplitter(chunk_size=1500, chunk_overlap=0)\n",
    "docs = text_splitter.split_documents(documents)\n",
    "print(f\"# of documents = {len(docs)}\")"
   ]
  },
  {
   "cell_type": "code",
   "execution_count": 66,
   "metadata": {},
   "outputs": [
    {
     "data": {
      "text/plain": [
       "[Document(page_content='CE/CZ4052Cloud ComputingBasics, IaaS, PaaS, SaaSDr. Tan, Chee WeiEmail: cheewei.tan@ntu.edu.sgOffice: N4-02c-104', metadata={'source': 'Lec1.pdf', 'page': 0}),\n",
       " Document(page_content='Outline\\n1Real-world examples of the cloud Definitions of cloud computingKey cloud concepts and characteristics Deployment scenarios', metadata={'source': 'Lec1.pdf', 'page': 1}),\n",
       " Document(page_content='Cloud:MassiveScale\\n2Facebook[GigaOM,2012]30Kin2009->60Kin2010->100Kin2012Microsoft[DCknowledge]>1million,2013AWSEC2[RandyBias,2009]40K,8corespermachineGoogle[DCknowledge]>900K,2013', metadata={'source': 'Lec1.pdf', 'page': 2}),\n",
       " Document(page_content='Datacenter:outside\\nCopyright:Google4', metadata={'source': 'Lec1.pdf', 'page': 3}),\n",
       " Document(page_content='Datacenter:outside\\nCopyright:Googles', metadata={'source': 'Lec1.pdf', 'page': 4}),\n",
       " Document(page_content='Datacenter:inside\\nCopyright:Google6', metadata={'source': 'Lec1.pdf', 'page': 5}),\n",
       " Document(page_content='Serverracks\\n7Photocredit:Google', metadata={'source': 'Lec1.pdf', 'page': 6}),\n",
       " Document(page_content='Server:inside\\nCopyright:xsnets', metadata={'source': 'Lec1.pdf', 'page': 7}),\n",
       " Document(page_content='Servercage\\n9', metadata={'source': 'Lec1.pdf', 'page': 8}),\n",
       " Document(page_content='Network room\\nCopyright:Google10', metadata={'source': 'Lec1.pdf', 'page': 9}),\n",
       " Document(page_content='Coolingfunctionality', metadata={'source': 'Lec1.pdf', 'page': 10}),\n",
       " Document(page_content='Powerfunctionality\\n11Copyright:GigaOM\\nCopyright: NationofChangehttps://www.youtube.com/watch?v=XZmGGAbHqa0Explore Google Datacenter', metadata={'source': 'Lec1.pdf', 'page': 11}),\n",
       " Document(page_content='Cloudproviders\\n12amazonwebservices™', metadata={'source': 'Lec1.pdf', 'page': 12}),\n",
       " Document(page_content='Cloud-basedservices\\n13', metadata={'source': 'Lec1.pdf', 'page': 13}),\n",
       " Document(page_content='Cloudvendors\\n14', metadata={'source': 'Lec1.pdf', 'page': 14}),\n",
       " Document(page_content='Sowhatisacloud?\\n15serv•ices--Cloud corecloud edgeData centers and Internet', metadata={'source': 'Lec1.pdf', 'page': 15}),\n",
       " Document(page_content='Adefinition\\n16Cloud computing is a model for enabling ubiquitous, convenient, on-demand network access to a shared pool of configurable computing resources (e.g., networks, servers, storage, applications, and services) that can be rapidly provisioned and released with minimal management effortor service provider interactionFour types of cloud computing: private clouds, public clouds, hybrid clouds and multicloudsNationalInstituteofStandardsandTechnology(NIST),U.S.DepartmentofCommerce', metadata={'source': 'Lec1.pdf', 'page': 16}),\n",
       " Document(page_content='On-demandself-service\\n20Supposeyouopenastart-up,andneeds20serversforthebusiness, cloud computing enables on-demand service', metadata={'source': 'Lec1.pdf', 'page': 17}),\n",
       " Document(page_content='On-demandself-service\\n18', metadata={'source': 'Lec1.pdf', 'page': 18}),\n",
       " Document(page_content='19A consumer can unilaterally provision computing capabilities, such as servers and network storage, as needed automatically without requiring human interaction with each service provider.Cloud computing makes the underlying technology, beyond the user device, almost invisible and transparent to usersAdvantages for consumers: flexible, minimal overhead, quick and easyOn-demandself-service', metadata={'source': 'Lec1.pdf', 'page': 19}),\n",
       " Document(page_content='Broadnetworkaccess\\n20', metadata={'source': 'Lec1.pdf', 'page': 20}),\n",
       " Document(page_content='Broadnetworkaccess\\n21Capabilities are available over the network and accessed through standard mechanisms that promote use by heterogeneous thin or thick client platforms (e.g., smart phones, tablets, laptops, and workstations).Advantages for consumers: \"Always-on\" experience, like utilities (electricity)Allows big amount of data to be collected from cloud edgeCloud computing enables scalable machine learning techniques to power Artificial Intelligence (AI) applications', metadata={'source': 'Lec1.pdf', 'page': 21}),\n",
       " Document(page_content=\"Resourcepooling\\n22Fromtheprovider'sperspective\", metadata={'source': 'Lec1.pdf', 'page': 22}),\n",
       " Document(page_content=\"23The provider's resources are pooled to serve consumers using a multi-tenant model, with different physical and virtual resources dynamically allocated according to consumer demand.Location independence: the customer generally has no control or knowledge over the exact location of the provided resources but may be able to specify location at a higher level of abstraction (e.g., country, state, or datacenter).Advantage for providers: efficiency in utilizationResourcepooling\", metadata={'source': 'Lec1.pdf', 'page': 23}),\n",
       " Document(page_content='24Resources can be rapidly and elastically scaled up and down. Suppose your business grows and needs 40 servers now. Elastic provisioning outperforms static provisioning\\nCloud rapid elasticity', metadata={'source': 'Lec1.pdf', 'page': 24}),\n",
       " Document(page_content='25Withcloudcomputing\\nAdvantageforconsumers:flexible,quickandeasy\\nCloud rapid elasticity', metadata={'source': 'Lec1.pdf', 'page': 25}),\n",
       " Document(page_content='Cloud economics\\n26A cloud automatically controls and optimizes resource use by leveraging a metering capability at some level of abstraction appropriate to the type of serviceResource usage can be monitored, controlled, and reported, providing transparency for both the provider and consumerCloud economics to match supply and demand. How to optimize cloud resources to match computing and storage demands?Cloud economics: Who determines price and pricing strategiesPay-as-you-go, pay only for what you use', metadata={'source': 'Lec1.pdf', 'page': 26}),\n",
       " Document(page_content='Socialcloud computingGeneralize cloud computing to include the sharing, bartering and renting of computing resources across peers whose owners and operators are verified through a social network or reputation systemBasis of emerging Web 3.0 applications past the confines of formal commercial data centers operated by cloud providers to include anyone interested in participating within the cloud services sharing economyBerkeley Open Infrastructure for Network Computing  Subutai P2P Edge Cloud Platform (https://subutai.io)Decentralized applications (dApps)https://en.wikipedia.org/wiki/Social_cloud_computing', metadata={'source': 'Lec1.pdf', 'page': 27}),\n",
       " Document(page_content='Cloud Summary\\n28Cloud computing is an umbrella term used to refer to Internet based development and servicesA number of characteristics define cloud data, applications services and infrastructure:Remotely hosted: Services or data are hosted on remote infrastructure. Ubiquitous: Services or data are available from anywhere.Commodified: The result is a utility computing model similar to traditional that of traditional utilities, like gas and electricity -you pay for what you would want!', metadata={'source': 'Lec1.pdf', 'page': 28}),\n",
       " Document(page_content='29Infrastructure-as-a-Service (laaS) Platform-as-a-Service (PaaS) Software-as-a-Service (SaaS)Opportunities and ChallengesAdvantages and Disadvantages of cloud computingOutline', metadata={'source': 'Lec1.pdf', 'page': 29}),\n",
       " Document(page_content='laaS\\n30Infrastructure-as-a-Service (IaaS)Providers give you the computing infrastructure made available as a service. You get \"bare-metal\" machines.Providers manage a large pool of resources (i.e., servers), and use virtualization to dynamically allocate serversCustomers \"rent\" these physical resources to customizetheir own infrastructureYou operate the Operating System (OS) and all the software on the servers by yourself', metadata={'source': 'Lec1.pdf', 'page': 30}),\n",
       " Document(page_content='laaS\\n31ftInfrastructure-as-a-Service (IaaS)Virtualization and Virtual Machines', metadata={'source': 'Lec1.pdf', 'page': 31}),\n",
       " Document(page_content='laaSApplications\\n32Netflix rents thousands of servers, terabytes of storage from Amazon Web Services (AWS)Develop and deploy specialized software for transcoding, storage, streaming, analytics, etc. on top of service deliveryAble to support tens of millions of connected devices used by 40+ million users from 40+ countries', metadata={'source': 'Lec1.pdf', 'page': 32}),\n",
       " Document(page_content='Virtualization¨Virtual workspaces: ¤An abstraction of an execution environment that can be made dynamically available to authorized clients by using well-defined protocols, ¤Resource quota (e.g. CPU, memory share),¤Software configuration (e.g. O/S, provided services). ¨Implement on Virtual Machines (VMs): ¤Abstraction of a physical host machine,¤Hypervisor intercepts and emulates instructions from VMs, and allows management of VMs,¤VMWare, Xen, etc.¨Provide infrastructure API:¤Plug-ins to hardware/support structuresHardwareOSAppAppAppHypervisorOSOSVirtualized Stack', metadata={'source': 'Lec1.pdf', 'page': 33}),\n",
       " Document(page_content='Virtual MachinesVM technology allows multiple virtual machines to run on a single physical machine.\\nHardwareVirtual Machine Monitor (VMM) / HypervisorGuest OS(Linux)Guest OS(NetBSD)Guest OS(Windows)VMVMVMAppAppAppAppAppXenVMWareUMLDenalietc.Performance: Para-virtualization (e.g. Xen) is very close to raw physical performance!', metadata={'source': 'Lec1.pdf', 'page': 34}),\n",
       " Document(page_content='PaaS\\n35Platform-as-a-Service (PaaS)Providers give users with a software platform or middleware where applications runYou develop and maintain and deploy your own software on top of the platformThe hardware needed to run the software is automatically managed by the platform. There are limitations on explicit management of resources.Examples: SQL as a service (SQLaaS), Matlab, Gurobi', metadata={'source': 'Lec1.pdf', 'page': 35}),\n",
       " Document(page_content='PaaS\\n36You have automated scalability without the need to respond to request load increase or decreaseIdeal for deployment of mobile apps, webapps etc.Application programming interface (API) support via popular languages likePython,Javascript, Java,PHP,andGo', metadata={'source': 'Lec1.pdf', 'page': 36}),\n",
       " Document(page_content='SaaS\\n37Software-as-a-Service (SaaS)Providers give you a piece of software/application, and take care of updating, maintaining and troubleshooting the application.As end user, you simply use the software using the Internet.Business model of SaaS: business-to-business (B2B), business-to-clients (B2C) that cover numerous retail end users', metadata={'source': 'Lec1.pdf', 'page': 37}),\n",
       " Document(page_content='Applications of SaaS\\n38Nowadays, many institutions use Google Apps, Apple cloud and Office 365 for emails, video meeting, calendar, etc.Business use SaaS for payment and transactions. Legal industry relies on SaaS for compliance, creative industry relies on SaaS for artwork (e.g., computer-generated images). Engineers rely on SaaS to design circuits/software. Students rely  on SaaS to learn and collaborate.What are scientific applications of SaaS?', metadata={'source': 'Lec1.pdf', 'page': 38}),\n",
       " Document(page_content='SaaS Maturity Model\\n39Level 2: Configurable per customer\\nSource: Frederick Chong and Gianpaolo Carraro, “Architectures Strategies for Catching the  Long Tail”\\nLevel 3: configurable & Multi-Tenant-EfficientLevel 1: Ad-Hoc/Custom –One Instance per customer\\nLevel 4: Scalable, Configurable & Multi-Tenant-Efficient', metadata={'source': 'Lec1.pdf', 'page': 39}),\n",
       " Document(page_content='Comparisonof IaaS, PaaS, SaaS\\n40Convenience/Easeofmanagement/Business Models Tradeoff betweenflexibilityand\"built-in\"functionality', metadata={'source': 'Lec1.pdf', 'page': 40}),\n",
       " Document(page_content='Opportunities and ChallengesThe use of the cloud provides a number of opportunities: IaaS enables services to be used without any understanding of their infrastructure.Cloud computing works using economies of scale:nIaaS and PaaS potentially lower the outlay expense for start up companies, as they would no longer need to buy their own software or servers. nCost would be by on-demand pricing in IaaS, PaaS and SaaS. nCloud providers claim costs by establishing an ongoing revenue stream.Data and services are stored remotely but accessible from “anywhere” in SaaS.', metadata={'source': 'Lec1.pdf', 'page': 41}),\n",
       " Document(page_content='Opportunities and ChallengesIn parallel there has been backlash against cloud computing:Use of cloud computing means dependence on others and that could possibly limit flexibility and innovation:nThe others are likely become the bigger Internet companies like Google and IBM, who may monopolise the market. nSome argue that this use of supercomputers is a return to the time of mainframe computing that the PC was a reaction against.Security could prove to be a big issue:nIt is still unclear how safe out-sourced data to SaaS is and when using these services ownership of data in SaaS is not always clear.There are also issues relating to policy and access: nIf your data is stored abroad whose policy do you adhere to? nWhat happens if the remote server goes down? nHow will you then access files? nThere have been cases of users being locked out of accounts and losing access to data.', metadata={'source': 'Lec1.pdf', 'page': 42}),\n",
       " Document(page_content=\"Advantages of Cloud ComputingIaaS leads to lower computer costs: You do not need a high-powered and high-priced computer to run cloud computing's web-based applications. Since applications run in the cloud, not on the desktop PC, your desktop PC does not need the processing power or hard disk space demanded by traditional desktop software. When you are using web-based applications, your PC can be less expensive, with a smaller hard disk, less memory, more efficient processor... In fact, your PC in this scenario does not even need a CD or DVD drive, as no software programs have to be loaded and no document files need to be saved.\", metadata={'source': 'Lec1.pdf', 'page': 43}),\n",
       " Document(page_content=\"Advantages of Cloud ComputingIaaS leads to unlimited storage capacity:Cloud computing offers virtually limitless storage. Your computer's current 1 Tbytehard drive is small compared to the hundreds of Pbytesavailable in the cloud.IaaS leads to increased data reliability:Unlike desktop computing, in which if a hard disk crashes and destroy all your valuable data, a computer crashing in the cloud should not affect the storage of your data.if your personal computer crashes, all your data is still out there in the cloud, still accessibleIn a world where few individual desktop PC users back up their data on a regular basis, cloud computing is a data-safe computing platform!\", metadata={'source': 'Lec1.pdf', 'page': 44}),\n",
       " Document(page_content=\"Advantages of Cloud ComputingPaaS leads to improved performance:With few large programs hogging your computer's memory, you will see better performance from your PC. Computers in a cloud computing system boot and run faster because they have fewer programs and processes loaded into memory…SaaS leads to reduced software costs: Instead of purchasing expensive software applications, you can get most of what you need for free-ish!-most cloud computing applications today, such as the Google Docs suite.Better than paying for similar commercial software-which alone may be justification for switching to cloud applications.\", metadata={'source': 'Lec1.pdf', 'page': 45}),\n",
       " Document(page_content=\"Advantages of Cloud ComputingPaaS and SaaS take care of instant software updates:Another advantage to cloud computing is that you are no longer faced with choosing between obsolete software and high upgrade costs.With web-based applications (i.e., SaaS), updates happen automatically -available the next time you log into the cloud. When you access a web-based application, you get the latest version -without needing to pay for or download an upgrade.SaaS leads to improved document format compatibility. You do not have to worry about the documents you create on your machine being compatible with other users' applications or OSesThere are potentially no format incompatibilities when everyone is sharing documents and applications in the cloud.\", metadata={'source': 'Lec1.pdf', 'page': 46}),\n",
       " Document(page_content='Advantages of Cloud ComputingSaaS leads to universal document access:That is not a problem with cloud computing, because you do not take your documents with you. Instead, they stay in the cloud, and you can access them whenever you have a computer and an Internet connectionDocuments are instantly available from wherever you areSaaS leads to latest version availability:When you edit a document at home, that edited version is what you see when you access the document at work. The cloud always hosts the latest version of your documents-as long as you are connected, you are not in danger of having an outdated version', metadata={'source': 'Lec1.pdf', 'page': 47}),\n",
       " Document(page_content='Advantages of Cloud ComputingSaaS leads to easier group collaboration:Sharing documents leads directly to better collaboration.Many users do this as it is an important advantages of cloud computingnmultiple users can collaborate easily on documents and projectsDevice independence. You are no longer tethered to a single computer or network. Changes to computers, applications and documents follow you through the cloud. Move to a portable device, and your applications and documents are still available.', metadata={'source': 'Lec1.pdf', 'page': 48}),\n",
       " Document(page_content='Disadvantages of Cloud ComputingRequires a constant Internet connection:Cloud computing is impossible if you cannot connect to the Internet. Since you use the Internet to connect to both your applications and documents, if you do not have an Internet connection you cannot access anything, even your own documents. A dead Internet connection means no work and in areas where Internet connections are few or inherently unreliable, this could be a deal-breaker.', metadata={'source': 'Lec1.pdf', 'page': 49}),\n",
       " Document(page_content=\"Disadvantages of Cloud ComputingDoes not work well with low-speed connections: Similarly, a low-speed Internet connection, such as that found with dial-up services, makes cloud computing painful at best and often impossible. Web-based applications require a lot of bandwidth to download, as do large documents. Features might be limited:This situation is bound to change, but today many web-based applications simply are not as full-featured as their desktop-based applications.nFor example, you can do a lot more with Microsoft PowerPoint than with Google Presentation's web-based offering\", metadata={'source': 'Lec1.pdf', 'page': 50}),\n",
       " Document(page_content='Disadvantages of Cloud ComputingCan be slow:Even with a fast connection, web-based applications can sometimes be slower than accessing a similar software program on your desktop PC. Everything about the program, from the interface to the current document, has to be sent back and forth from your computer to the computers in the cloud. If the cloud servers happen to be backed up at that moment, or if the Internet is having a slow day, you would not get the instantaneous access you might expect from desktop applications.', metadata={'source': 'Lec1.pdf', 'page': 51}),\n",
       " Document(page_content='Disadvantages of Cloud ComputingStored data might not be secure:With cloud computing, all your data is stored on the cloud. nThe questions is How secure is the cloud? Can unauthorisedusers gain access to your confidential data? Stored data can be lost:Theoretically, data stored in the cloud is safe, replicated across multiple machines. But on the off chance that your data goes missing, you have no physical or local backup. Put simply, relying on the cloud puts you at risk if the cloud lets you down.', metadata={'source': 'Lec1.pdf', 'page': 52}),\n",
       " Document(page_content='Disadvantages of Cloud ComputingHPC Systems:Not clear that you can run compute-intensive HPC applications that use MPI/OpenMP!Scheduling is important with this type of applicationnas you want all the VM to be co-located to minimize communication latency!General Concerns:Each cloud systems uses different protocols and different APIs-may not be possible to run applications between cloud based systemsAmazon has created its own DB system (not SQL), and workflow system (many popular workflow systems out there)-so your normal applications will have to be adapted to execute on these platforms.', metadata={'source': 'Lec1.pdf', 'page': 53})]"
      ]
     },
     "execution_count": 66,
     "metadata": {},
     "output_type": "execute_result"
    }
   ],
   "source": [
    "docs"
   ]
  },
  {
   "cell_type": "code",
   "execution_count": 67,
   "metadata": {},
   "outputs": [],
   "source": [
    "question_gen = ''\n",
    "\n",
    "for page in documents:\n",
    "    question_gen += page.page_content\n",
    "\n",
    "splitter_ques_gen = TokenTextSplitter(\n",
    "model_name = 'gpt-3.5-turbo',\n",
    "chunk_size = 10000,\n",
    "chunk_overlap = 0\n",
    ")\n",
    "\n",
    "chunks_ques_gen = splitter_ques_gen.split_text(question_gen)\n",
    "\n",
    "document_ques_gen = [Document(page_content=t) for t in chunks_ques_gen]"
   ]
  },
  {
   "cell_type": "code",
   "execution_count": null,
   "metadata": {},
   "outputs": [],
   "source": []
  },
  {
   "cell_type": "markdown",
   "metadata": {},
   "source": [
    "# VectorStores\n",
    "- Index or DB to store vectors (our embeddings)\n",
    "- Columns are: [Embedding Value, Metadata]"
   ]
  },
  {
   "cell_type": "code",
   "execution_count": null,
   "metadata": {},
   "outputs": [],
   "source": [
    "from langchain_community.vectorstores import Chroma"
   ]
  },
  {
   "cell_type": "code",
   "execution_count": null,
   "metadata": {},
   "outputs": [
    {
     "name": "stdout",
     "output_type": "stream",
     "text": [
      "Waiting\n",
      ".........................."
     ]
    }
   ],
   "source": [
    "db = Chroma.from_documents(docs, embeddings)"
   ]
  },
  {
   "cell_type": "code",
   "execution_count": null,
   "metadata": {},
   "outputs": [],
   "source": []
  },
  {
   "cell_type": "markdown",
   "metadata": {},
   "source": [
    "# Prompts"
   ]
  },
  {
   "cell_type": "code",
   "execution_count": 75,
   "metadata": {},
   "outputs": [],
   "source": [
    "from langchain.prompts import PromptTemplate"
   ]
  },
  {
   "cell_type": "code",
   "execution_count": 137,
   "metadata": {},
   "outputs": [],
   "source": [
    "prompt_template = \"\"\"\n",
    "You are an expert at creating questions based on the content in documents.\n",
    "Your goal is to prepare a student for their exam and tests.\n",
    "You do this by asking questions about the text below:\n",
    "\n",
    "------------\n",
    "{text}\n",
    "------------\n",
    "\n",
    "Create questions in an MCQ format with 4 possible solutions that will prepare the students for their tests. The output specifications are as follows:\n",
    "'question', 'possible_answers', 'correct_answer', 'explanation'. Separate the questions with a '*'.\n",
    "Make sure not to lose any important information.\n",
    "\n",
    "QUESTIONS:\n",
    "\"\"\"\n",
    "\n",
    "PROMPT_QUESTIONS = PromptTemplate(template=prompt_template, input_variables=[\"text\"])\n",
    "\n",
    "refine_template = (\"\"\"\n",
    "You are an expert at creating practice questions based on content in documents.\n",
    "Your goal is to help a stuednt prepare for their exams and test.\n",
    "We have received some practice questions to a certain extent: {existing_answer}. The question, possible answers, correct answer and explanation can be found in the 'question', 'possible_answers', 'correct_answer' and 'explanation' fields respectively.\n",
    "We have the option to refine the existing questions or add new ones. \n",
    "(only if necessary) with some more context below. Separate the questions with a '*'.\n",
    "------------\n",
    "{text}\n",
    "------------\n",
    "\n",
    "Given the new context, refine the original questions in English.\n",
    "If the context is not helpful, please provide the original questions.\n",
    "QUESTIONS:\n",
    "\"\"\"\n",
    ")\n",
    "\n",
    "REFINE_PROMPT_QUESTIONS = PromptTemplate(\n",
    "    input_variables=[\"existing_answer\", \"text\"],\n",
    "    template=refine_template,\n",
    ")"
   ]
  },
  {
   "cell_type": "markdown",
   "metadata": {},
   "source": [
    "# LLM Pipeline\n",
    "This section integrates the above components together and generates the questions and answers."
   ]
  },
  {
   "cell_type": "code",
   "execution_count": 103,
   "metadata": {},
   "outputs": [],
   "source": [
    "from langchain.chains.summarize import load_summarize_chain\n",
    "from langchain.chains import RetrievalQA\n",
    "from langchain_core.vectorstores import VectorStoreRetriever"
   ]
  },
  {
   "cell_type": "code",
   "execution_count": 104,
   "metadata": {},
   "outputs": [
    {
     "data": {
      "text/plain": [
       "[Document(page_content='CE/CZ4052Cloud ComputingBasics, IaaS, PaaS, SaaSDr. Tan, Chee WeiEmail: cheewei.tan@ntu.edu.sgOffice: N4-02c-104', metadata={'source': 'Lec1.pdf', 'page': 0}),\n",
       " Document(page_content='Outline\\n1Real-world examples of the cloud Definitions of cloud computingKey cloud concepts and characteristics Deployment scenarios', metadata={'source': 'Lec1.pdf', 'page': 1}),\n",
       " Document(page_content='Cloud:MassiveScale\\n2Facebook[GigaOM,2012]30Kin2009->60Kin2010->100Kin2012Microsoft[DCknowledge]>1million,2013AWSEC2[RandyBias,2009]40K,8corespermachineGoogle[DCknowledge]>900K,2013', metadata={'source': 'Lec1.pdf', 'page': 2}),\n",
       " Document(page_content='Datacenter:outside\\nCopyright:Google4', metadata={'source': 'Lec1.pdf', 'page': 3}),\n",
       " Document(page_content='Datacenter:outside\\nCopyright:Googles', metadata={'source': 'Lec1.pdf', 'page': 4}),\n",
       " Document(page_content='Datacenter:inside\\nCopyright:Google6', metadata={'source': 'Lec1.pdf', 'page': 5}),\n",
       " Document(page_content='Serverracks\\n7Photocredit:Google', metadata={'source': 'Lec1.pdf', 'page': 6}),\n",
       " Document(page_content='Server:inside\\nCopyright:xsnets', metadata={'source': 'Lec1.pdf', 'page': 7}),\n",
       " Document(page_content='Servercage\\n9', metadata={'source': 'Lec1.pdf', 'page': 8}),\n",
       " Document(page_content='Network room\\nCopyright:Google10', metadata={'source': 'Lec1.pdf', 'page': 9}),\n",
       " Document(page_content='Coolingfunctionality', metadata={'source': 'Lec1.pdf', 'page': 10}),\n",
       " Document(page_content='Powerfunctionality\\n11Copyright:GigaOM\\nCopyright: NationofChangehttps://www.youtube.com/watch?v=XZmGGAbHqa0Explore Google Datacenter', metadata={'source': 'Lec1.pdf', 'page': 11}),\n",
       " Document(page_content='Cloudproviders\\n12amazonwebservices™', metadata={'source': 'Lec1.pdf', 'page': 12}),\n",
       " Document(page_content='Cloud-basedservices\\n13', metadata={'source': 'Lec1.pdf', 'page': 13}),\n",
       " Document(page_content='Cloudvendors\\n14', metadata={'source': 'Lec1.pdf', 'page': 14}),\n",
       " Document(page_content='Sowhatisacloud?\\n15serv•ices--Cloud corecloud edgeData centers and Internet', metadata={'source': 'Lec1.pdf', 'page': 15}),\n",
       " Document(page_content='Adefinition\\n16Cloud computing is a model for enabling ubiquitous, convenient, on-demand network access to a shared pool of configurable computing resources (e.g., networks, servers, storage, applications, and services) that can be rapidly provisioned and released with minimal management effortor service provider interactionFour types of cloud computing: private clouds, public clouds, hybrid clouds and multicloudsNationalInstituteofStandardsandTechnology(NIST),U.S.DepartmentofCommerce', metadata={'source': 'Lec1.pdf', 'page': 16}),\n",
       " Document(page_content='On-demandself-service\\n20Supposeyouopenastart-up,andneeds20serversforthebusiness, cloud computing enables on-demand service', metadata={'source': 'Lec1.pdf', 'page': 17}),\n",
       " Document(page_content='On-demandself-service\\n18', metadata={'source': 'Lec1.pdf', 'page': 18}),\n",
       " Document(page_content='19A consumer can unilaterally provision computing capabilities, such as servers and network storage, as needed automatically without requiring human interaction with each service provider.Cloud computing makes the underlying technology, beyond the user device, almost invisible and transparent to usersAdvantages for consumers: flexible, minimal overhead, quick and easyOn-demandself-service', metadata={'source': 'Lec1.pdf', 'page': 19}),\n",
       " Document(page_content='Broadnetworkaccess\\n20', metadata={'source': 'Lec1.pdf', 'page': 20}),\n",
       " Document(page_content='Broadnetworkaccess\\n21Capabilities are available over the network and accessed through standard mechanisms that promote use by heterogeneous thin or thick client platforms (e.g., smart phones, tablets, laptops, and workstations).Advantages for consumers: \"Always-on\" experience, like utilities (electricity)Allows big amount of data to be collected from cloud edgeCloud computing enables scalable machine learning techniques to power Artificial Intelligence (AI) applications', metadata={'source': 'Lec1.pdf', 'page': 21}),\n",
       " Document(page_content=\"Resourcepooling\\n22Fromtheprovider'sperspective\", metadata={'source': 'Lec1.pdf', 'page': 22}),\n",
       " Document(page_content=\"23The provider's resources are pooled to serve consumers using a multi-tenant model, with different physical and virtual resources dynamically allocated according to consumer demand.Location independence: the customer generally has no control or knowledge over the exact location of the provided resources but may be able to specify location at a higher level of abstraction (e.g., country, state, or datacenter).Advantage for providers: efficiency in utilizationResourcepooling\", metadata={'source': 'Lec1.pdf', 'page': 23}),\n",
       " Document(page_content='24Resources can be rapidly and elastically scaled up and down. Suppose your business grows and needs 40 servers now. Elastic provisioning outperforms static provisioning\\nCloud rapid elasticity', metadata={'source': 'Lec1.pdf', 'page': 24}),\n",
       " Document(page_content='25Withcloudcomputing\\nAdvantageforconsumers:flexible,quickandeasy\\nCloud rapid elasticity', metadata={'source': 'Lec1.pdf', 'page': 25}),\n",
       " Document(page_content='Cloud economics\\n26A cloud automatically controls and optimizes resource use by leveraging a metering capability at some level of abstraction appropriate to the type of serviceResource usage can be monitored, controlled, and reported, providing transparency for both the provider and consumerCloud economics to match supply and demand. How to optimize cloud resources to match computing and storage demands?Cloud economics: Who determines price and pricing strategiesPay-as-you-go, pay only for what you use', metadata={'source': 'Lec1.pdf', 'page': 26}),\n",
       " Document(page_content='Socialcloud computingGeneralize cloud computing to include the sharing, bartering and renting of computing resources across peers whose owners and operators are verified through a social network or reputation systemBasis of emerging Web 3.0 applications past the confines of formal commercial data centers operated by cloud providers to include anyone interested in participating within the cloud services sharing economyBerkeley Open Infrastructure for Network Computing  Subutai P2P Edge Cloud Platform (https://subutai.io)Decentralized applications (dApps)https://en.wikipedia.org/wiki/Social_cloud_computing', metadata={'source': 'Lec1.pdf', 'page': 27}),\n",
       " Document(page_content='Cloud Summary\\n28Cloud computing is an umbrella term used to refer to Internet based development and servicesA number of characteristics define cloud data, applications services and infrastructure:Remotely hosted: Services or data are hosted on remote infrastructure. Ubiquitous: Services or data are available from anywhere.Commodified: The result is a utility computing model similar to traditional that of traditional utilities, like gas and electricity -you pay for what you would want!', metadata={'source': 'Lec1.pdf', 'page': 28}),\n",
       " Document(page_content='29Infrastructure-as-a-Service (laaS) Platform-as-a-Service (PaaS) Software-as-a-Service (SaaS)Opportunities and ChallengesAdvantages and Disadvantages of cloud computingOutline', metadata={'source': 'Lec1.pdf', 'page': 29}),\n",
       " Document(page_content='laaS\\n30Infrastructure-as-a-Service (IaaS)Providers give you the computing infrastructure made available as a service. You get \"bare-metal\" machines.Providers manage a large pool of resources (i.e., servers), and use virtualization to dynamically allocate serversCustomers \"rent\" these physical resources to customizetheir own infrastructureYou operate the Operating System (OS) and all the software on the servers by yourself', metadata={'source': 'Lec1.pdf', 'page': 30}),\n",
       " Document(page_content='laaS\\n31ftInfrastructure-as-a-Service (IaaS)Virtualization and Virtual Machines', metadata={'source': 'Lec1.pdf', 'page': 31}),\n",
       " Document(page_content='laaSApplications\\n32Netflix rents thousands of servers, terabytes of storage from Amazon Web Services (AWS)Develop and deploy specialized software for transcoding, storage, streaming, analytics, etc. on top of service deliveryAble to support tens of millions of connected devices used by 40+ million users from 40+ countries', metadata={'source': 'Lec1.pdf', 'page': 32}),\n",
       " Document(page_content='Virtualization¨Virtual workspaces: ¤An abstraction of an execution environment that can be made dynamically available to authorized clients by using well-defined protocols, ¤Resource quota (e.g. CPU, memory share),¤Software configuration (e.g. O/S, provided services). ¨Implement on Virtual Machines (VMs): ¤Abstraction of a physical host machine,¤Hypervisor intercepts and emulates instructions from VMs, and allows management of VMs,¤VMWare, Xen, etc.¨Provide infrastructure API:¤Plug-ins to hardware/support structuresHardwareOSAppAppAppHypervisorOSOSVirtualized Stack', metadata={'source': 'Lec1.pdf', 'page': 33}),\n",
       " Document(page_content='Virtual MachinesVM technology allows multiple virtual machines to run on a single physical machine.\\nHardwareVirtual Machine Monitor (VMM) / HypervisorGuest OS(Linux)Guest OS(NetBSD)Guest OS(Windows)VMVMVMAppAppAppAppAppXenVMWareUMLDenalietc.Performance: Para-virtualization (e.g. Xen) is very close to raw physical performance!', metadata={'source': 'Lec1.pdf', 'page': 34}),\n",
       " Document(page_content='PaaS\\n35Platform-as-a-Service (PaaS)Providers give users with a software platform or middleware where applications runYou develop and maintain and deploy your own software on top of the platformThe hardware needed to run the software is automatically managed by the platform. There are limitations on explicit management of resources.Examples: SQL as a service (SQLaaS), Matlab, Gurobi', metadata={'source': 'Lec1.pdf', 'page': 35}),\n",
       " Document(page_content='PaaS\\n36You have automated scalability without the need to respond to request load increase or decreaseIdeal for deployment of mobile apps, webapps etc.Application programming interface (API) support via popular languages likePython,Javascript, Java,PHP,andGo', metadata={'source': 'Lec1.pdf', 'page': 36}),\n",
       " Document(page_content='SaaS\\n37Software-as-a-Service (SaaS)Providers give you a piece of software/application, and take care of updating, maintaining and troubleshooting the application.As end user, you simply use the software using the Internet.Business model of SaaS: business-to-business (B2B), business-to-clients (B2C) that cover numerous retail end users', metadata={'source': 'Lec1.pdf', 'page': 37}),\n",
       " Document(page_content='Applications of SaaS\\n38Nowadays, many institutions use Google Apps, Apple cloud and Office 365 for emails, video meeting, calendar, etc.Business use SaaS for payment and transactions. Legal industry relies on SaaS for compliance, creative industry relies on SaaS for artwork (e.g., computer-generated images). Engineers rely on SaaS to design circuits/software. Students rely  on SaaS to learn and collaborate.What are scientific applications of SaaS?', metadata={'source': 'Lec1.pdf', 'page': 38}),\n",
       " Document(page_content='SaaS Maturity Model\\n39Level 2: Configurable per customer\\nSource: Frederick Chong and Gianpaolo Carraro, “Architectures Strategies for Catching the  Long Tail”\\nLevel 3: configurable & Multi-Tenant-EfficientLevel 1: Ad-Hoc/Custom –One Instance per customer\\nLevel 4: Scalable, Configurable & Multi-Tenant-Efficient', metadata={'source': 'Lec1.pdf', 'page': 39}),\n",
       " Document(page_content='Comparisonof IaaS, PaaS, SaaS\\n40Convenience/Easeofmanagement/Business Models Tradeoff betweenflexibilityand\"built-in\"functionality', metadata={'source': 'Lec1.pdf', 'page': 40}),\n",
       " Document(page_content='Opportunities and ChallengesThe use of the cloud provides a number of opportunities: IaaS enables services to be used without any understanding of their infrastructure.Cloud computing works using economies of scale:nIaaS and PaaS potentially lower the outlay expense for start up companies, as they would no longer need to buy their own software or servers. nCost would be by on-demand pricing in IaaS, PaaS and SaaS. nCloud providers claim costs by establishing an ongoing revenue stream.Data and services are stored remotely but accessible from “anywhere” in SaaS.', metadata={'source': 'Lec1.pdf', 'page': 41}),\n",
       " Document(page_content='Opportunities and ChallengesIn parallel there has been backlash against cloud computing:Use of cloud computing means dependence on others and that could possibly limit flexibility and innovation:nThe others are likely become the bigger Internet companies like Google and IBM, who may monopolise the market. nSome argue that this use of supercomputers is a return to the time of mainframe computing that the PC was a reaction against.Security could prove to be a big issue:nIt is still unclear how safe out-sourced data to SaaS is and when using these services ownership of data in SaaS is not always clear.There are also issues relating to policy and access: nIf your data is stored abroad whose policy do you adhere to? nWhat happens if the remote server goes down? nHow will you then access files? nThere have been cases of users being locked out of accounts and losing access to data.', metadata={'source': 'Lec1.pdf', 'page': 42}),\n",
       " Document(page_content=\"Advantages of Cloud ComputingIaaS leads to lower computer costs: You do not need a high-powered and high-priced computer to run cloud computing's web-based applications. Since applications run in the cloud, not on the desktop PC, your desktop PC does not need the processing power or hard disk space demanded by traditional desktop software. When you are using web-based applications, your PC can be less expensive, with a smaller hard disk, less memory, more efficient processor... In fact, your PC in this scenario does not even need a CD or DVD drive, as no software programs have to be loaded and no document files need to be saved.\", metadata={'source': 'Lec1.pdf', 'page': 43}),\n",
       " Document(page_content=\"Advantages of Cloud ComputingIaaS leads to unlimited storage capacity:Cloud computing offers virtually limitless storage. Your computer's current 1 Tbytehard drive is small compared to the hundreds of Pbytesavailable in the cloud.IaaS leads to increased data reliability:Unlike desktop computing, in which if a hard disk crashes and destroy all your valuable data, a computer crashing in the cloud should not affect the storage of your data.if your personal computer crashes, all your data is still out there in the cloud, still accessibleIn a world where few individual desktop PC users back up their data on a regular basis, cloud computing is a data-safe computing platform!\", metadata={'source': 'Lec1.pdf', 'page': 44}),\n",
       " Document(page_content=\"Advantages of Cloud ComputingPaaS leads to improved performance:With few large programs hogging your computer's memory, you will see better performance from your PC. Computers in a cloud computing system boot and run faster because they have fewer programs and processes loaded into memory…SaaS leads to reduced software costs: Instead of purchasing expensive software applications, you can get most of what you need for free-ish!-most cloud computing applications today, such as the Google Docs suite.Better than paying for similar commercial software-which alone may be justification for switching to cloud applications.\", metadata={'source': 'Lec1.pdf', 'page': 45}),\n",
       " Document(page_content=\"Advantages of Cloud ComputingPaaS and SaaS take care of instant software updates:Another advantage to cloud computing is that you are no longer faced with choosing between obsolete software and high upgrade costs.With web-based applications (i.e., SaaS), updates happen automatically -available the next time you log into the cloud. When you access a web-based application, you get the latest version -without needing to pay for or download an upgrade.SaaS leads to improved document format compatibility. You do not have to worry about the documents you create on your machine being compatible with other users' applications or OSesThere are potentially no format incompatibilities when everyone is sharing documents and applications in the cloud.\", metadata={'source': 'Lec1.pdf', 'page': 46}),\n",
       " Document(page_content='Advantages of Cloud ComputingSaaS leads to universal document access:That is not a problem with cloud computing, because you do not take your documents with you. Instead, they stay in the cloud, and you can access them whenever you have a computer and an Internet connectionDocuments are instantly available from wherever you areSaaS leads to latest version availability:When you edit a document at home, that edited version is what you see when you access the document at work. The cloud always hosts the latest version of your documents-as long as you are connected, you are not in danger of having an outdated version', metadata={'source': 'Lec1.pdf', 'page': 47}),\n",
       " Document(page_content='Advantages of Cloud ComputingSaaS leads to easier group collaboration:Sharing documents leads directly to better collaboration.Many users do this as it is an important advantages of cloud computingnmultiple users can collaborate easily on documents and projectsDevice independence. You are no longer tethered to a single computer or network. Changes to computers, applications and documents follow you through the cloud. Move to a portable device, and your applications and documents are still available.', metadata={'source': 'Lec1.pdf', 'page': 48}),\n",
       " Document(page_content='Disadvantages of Cloud ComputingRequires a constant Internet connection:Cloud computing is impossible if you cannot connect to the Internet. Since you use the Internet to connect to both your applications and documents, if you do not have an Internet connection you cannot access anything, even your own documents. A dead Internet connection means no work and in areas where Internet connections are few or inherently unreliable, this could be a deal-breaker.', metadata={'source': 'Lec1.pdf', 'page': 49}),\n",
       " Document(page_content=\"Disadvantages of Cloud ComputingDoes not work well with low-speed connections: Similarly, a low-speed Internet connection, such as that found with dial-up services, makes cloud computing painful at best and often impossible. Web-based applications require a lot of bandwidth to download, as do large documents. Features might be limited:This situation is bound to change, but today many web-based applications simply are not as full-featured as their desktop-based applications.nFor example, you can do a lot more with Microsoft PowerPoint than with Google Presentation's web-based offering\", metadata={'source': 'Lec1.pdf', 'page': 50}),\n",
       " Document(page_content='Disadvantages of Cloud ComputingCan be slow:Even with a fast connection, web-based applications can sometimes be slower than accessing a similar software program on your desktop PC. Everything about the program, from the interface to the current document, has to be sent back and forth from your computer to the computers in the cloud. If the cloud servers happen to be backed up at that moment, or if the Internet is having a slow day, you would not get the instantaneous access you might expect from desktop applications.', metadata={'source': 'Lec1.pdf', 'page': 51}),\n",
       " Document(page_content='Disadvantages of Cloud ComputingStored data might not be secure:With cloud computing, all your data is stored on the cloud. nThe questions is How secure is the cloud? Can unauthorisedusers gain access to your confidential data? Stored data can be lost:Theoretically, data stored in the cloud is safe, replicated across multiple machines. But on the off chance that your data goes missing, you have no physical or local backup. Put simply, relying on the cloud puts you at risk if the cloud lets you down.', metadata={'source': 'Lec1.pdf', 'page': 52}),\n",
       " Document(page_content='Disadvantages of Cloud ComputingHPC Systems:Not clear that you can run compute-intensive HPC applications that use MPI/OpenMP!Scheduling is important with this type of applicationnas you want all the VM to be co-located to minimize communication latency!General Concerns:Each cloud systems uses different protocols and different APIs-may not be possible to run applications between cloud based systemsAmazon has created its own DB system (not SQL), and workflow system (many popular workflow systems out there)-so your normal applications will have to be adapted to execute on these platforms.', metadata={'source': 'Lec1.pdf', 'page': 53})]"
      ]
     },
     "execution_count": 104,
     "metadata": {},
     "output_type": "execute_result"
    }
   ],
   "source": [
    "docs"
   ]
  },
  {
   "cell_type": "code",
   "execution_count": 147,
   "metadata": {},
   "outputs": [
    {
     "name": "stdout",
     "output_type": "stream",
     "text": [
      "\n",
      "\n",
      "\u001b[1m> Entering new RefineDocumentsChain chain...\u001b[0m\n",
      "\n",
      "\n",
      "\u001b[1m> Entering new LLMChain chain...\u001b[0m\n",
      "Prompt after formatting:\n",
      "\u001b[32;1m\u001b[1;3m\n",
      "You are an expert at creating questions based on the content in documents.\n",
      "Your goal is to prepare a student for their exam and tests.\n",
      "You do this by asking questions about the text below:\n",
      "\n",
      "------------\n",
      "CE/CZ4052Cloud ComputingBasics, IaaS, PaaS, SaaSDr. Tan, Chee WeiEmail: cheewei.tan@ntu.edu.sgOffice: N4-02c-104Outline\n",
      "1Real-world examples of the cloud Definitions of cloud computingKey cloud concepts and characteristics Deployment scenariosCloud:MassiveScale\n",
      "2Facebook[GigaOM,2012]30Kin2009->60Kin2010->100Kin2012Microsoft[DCknowledge]>1million,2013AWSEC2[RandyBias,2009]40K,8corespermachineGoogle[DCknowledge]>900K,2013Datacenter:outside\n",
      "Copyright:Google4Datacenter:outside\n",
      "Copyright:GooglesDatacenter:inside\n",
      "Copyright:Google6Serverracks\n",
      "7Photocredit:GoogleServer:inside\n",
      "Copyright:xsnetsServercage\n",
      "9Network room\n",
      "Copyright:Google10CoolingfunctionalityPowerfunctionality\n",
      "11Copyright:GigaOM\n",
      "Copyright: NationofChangehttps://www.youtube.com/watch?v=XZmGGAbHqa0Explore Google DatacenterCloudproviders\n",
      "12amazonwebservices™\n",
      "Cloud-basedservices\n",
      "13\n",
      "Cloudvendors\n",
      "14\n",
      "Sowhatisacloud?\n",
      "15serv•ices--Cloud corecloud edgeData centers and InternetAdefinition\n",
      "16Cloud computing is a model for enabling ubiquitous, convenient, on-demand network access to a shared pool of configurable computing resources (e.g., networks, servers, storage, applications, and services) that can be rapidly provisioned and released with minimal management effortor service provider interactionFour types of cloud computing: private clouds, public clouds, hybrid clouds and multicloudsNationalInstituteofStandardsandTechnology(NIST),U.S.DepartmentofCommerceOn-demandself-service\n",
      "20Supposeyouopenastart-up,andneeds20serversforthebusiness, cloud computing enables on-demand service\n",
      "On-demandself-service\n",
      "18\n",
      "19A consumer can unilaterally provision computing capabilities, such as servers and network storage, as needed automatically without requiring human interaction with each service provider.Cloud computing makes the underlying technology, beyond the user device, almost invisible and transparent to usersAdvantages for consumers: flexible, minimal overhead, quick and easyOn-demandself-serviceBroadnetworkaccess\n",
      "20\n",
      "Broadnetworkaccess\n",
      "21Capabilities are available over the network and accessed through standard mechanisms that promote use by heterogeneous thin or thick client platforms (e.g., smart phones, tablets, laptops, and workstations).Advantages for consumers: \"Always-on\" experience, like utilities (electricity)Allows big amount of data to be collected from cloud edgeCloud computing enables scalable machine learning techniques to power Artificial Intelligence (AI) applicationsResourcepooling\n",
      "22Fromtheprovider'sperspective23The provider's resources are pooled to serve consumers using a multi-tenant model, with different physical and virtual resources dynamically allocated according to consumer demand.Location independence: the customer generally has no control or knowledge over the exact location of the provided resources but may be able to specify location at a higher level of abstraction (e.g., country, state, or datacenter).Advantage for providers: efficiency in utilizationResourcepooling24Resources can be rapidly and elastically scaled up and down. Suppose your business grows and needs 40 servers now. Elastic provisioning outperforms static provisioning\n",
      "Cloud rapid elasticity25Withcloudcomputing\n",
      "Advantageforconsumers:flexible,quickandeasy\n",
      "Cloud rapid elasticityCloud economics\n",
      "26A cloud automatically controls and optimizes resource use by leveraging a metering capability at some level of abstraction appropriate to the type of serviceResource usage can be monitored, controlled, and reported, providing transparency for both the provider and consumerCloud economics to match supply and demand. How to optimize cloud resources to match computing and storage demands?Cloud economics: Who determines price and pricing strategiesPay-as-you-go, pay only for what you useSocialcloud computingGeneralize cloud computing to include the sharing, bartering and renting of computing resources across peers whose owners and operators are verified through a social network or reputation systemBasis of emerging Web 3.0 applications past the confines of formal commercial data centers operated by cloud providers to include anyone interested in participating within the cloud services sharing economyBerkeley Open Infrastructure for Network Computing  Subutai P2P Edge Cloud Platform (https://subutai.io)Decentralized applications (dApps)https://en.wikipedia.org/wiki/Social_cloud_computingCloud Summary\n",
      "28Cloud computing is an umbrella term used to refer to Internet based development and servicesA number of characteristics define cloud data, applications services and infrastructure:Remotely hosted: Services or data are hosted on remote infrastructure. Ubiquitous: Services or data are available from anywhere.Commodified: The result is a utility computing model similar to traditional that of traditional utilities, like gas and electricity -you pay for what you would want!29Infrastructure-as-a-Service (laaS) Platform-as-a-Service (PaaS) Software-as-a-Service (SaaS)Opportunities and ChallengesAdvantages and Disadvantages of cloud computingOutlinelaaS\n",
      "30Infrastructure-as-a-Service (IaaS)Providers give you the computing infrastructure made available as a service. You get \"bare-metal\" machines.Providers manage a large pool of resources (i.e., servers), and use virtualization to dynamically allocate serversCustomers \"rent\" these physical resources to customizetheir own infrastructureYou operate the Operating System (OS) and all the software on the servers by yourselflaaS\n",
      "31ftInfrastructure-as-a-Service (IaaS)Virtualization and Virtual Machines\n",
      "laaSApplications\n",
      "32Netflix rents thousands of servers, terabytes of storage from Amazon Web Services (AWS)Develop and deploy specialized software for transcoding, storage, streaming, analytics, etc. on top of service deliveryAble to support tens of millions of connected devices used by 40+ million users from 40+ countriesVirtualization¨Virtual workspaces: ¤An abstraction of an execution environment that can be made dynamically available to authorized clients by using well-defined protocols, ¤Resource quota (e.g. CPU, memory share),¤Software configuration (e.g. O/S, provided services). ¨Implement on Virtual Machines (VMs): ¤Abstraction of a physical host machine,¤Hypervisor intercepts and emulates instructions from VMs, and allows management of VMs,¤VMWare, Xen, etc.¨Provide infrastructure API:¤Plug-ins to hardware/support structuresHardwareOSAppAppAppHypervisorOSOSVirtualized StackVirtual MachinesVM technology allows multiple virtual machines to run on a single physical machine.\n",
      "HardwareVirtual Machine Monitor (VMM) / HypervisorGuest OS(Linux)Guest OS(NetBSD)Guest OS(Windows)VMVMVMAppAppAppAppAppXenVMWareUMLDenalietc.Performance: Para-virtualization (e.g. Xen) is very close to raw physical performance!PaaS\n",
      "35Platform-as-a-Service (PaaS)Providers give users with a software platform or middleware where applications runYou develop and maintain and deploy your own software on top of the platformThe hardware needed to run the software is automatically managed by the platform. There are limitations on explicit management of resources.Examples: SQL as a service (SQLaaS), Matlab, GurobiPaaS\n",
      "36You have automated scalability without the need to respond to request load increase or decreaseIdeal for deployment of mobile apps, webapps etc.Application programming interface (API) support via popular languages likePython,Javascript, Java,PHP,andGo\n",
      "SaaS\n",
      "37Software-as-a-Service (SaaS)Providers give you a piece of software/application, and take care of updating, maintaining and troubleshooting the application.As end user, you simply use the software using the Internet.Business model of SaaS: business-to-business (B2B), business-to-clients (B2C) that cover numerous retail end usersApplications of SaaS\n",
      "38Nowadays, many institutions use Google Apps, Apple cloud and Office 365 for emails, video meeting, calendar, etc.Business use SaaS for payment and transactions. Legal industry relies on SaaS for compliance, creative industry relies on SaaS for artwork (e.g., computer-generated images). Engineers rely on SaaS to design circuits/software. Students rely  on SaaS to learn and collaborate.What are scientific applications of SaaS?\n",
      "SaaS Maturity Model\n",
      "39Level 2: Configurable per customer\n",
      "Source: Frederick Chong and Gianpaolo Carraro, “Architectures Strategies for Catching the  Long Tail”\n",
      "Level 3: configurable & Multi-Tenant-EfficientLevel 1: Ad-Hoc/Custom –One Instance per customer\n",
      "Level 4: Scalable, Configurable & Multi-Tenant-EfficientComparisonof IaaS, PaaS, SaaS\n",
      "40Convenience/Easeofmanagement/Business Models Tradeoff betweenflexibilityand\"built-in\"functionality\n",
      "Opportunities and ChallengesThe use of the cloud provides a number of opportunities: IaaS enables services to be used without any understanding of their infrastructure.Cloud computing works using economies of scale:nIaaS and PaaS potentially lower the outlay expense for start up companies, as they would no longer need to buy their own software or servers. nCost would be by on-demand pricing in IaaS, PaaS and SaaS. nCloud providers claim costs by establishing an ongoing revenue stream.Data and services are stored remotely but accessible from “anywhere” in SaaS. Opportunities and ChallengesIn parallel there has been backlash against cloud computing:Use of cloud computing means dependence on others and that could possibly limit flexibility and innovation:nThe others are likely become the bigger Internet companies like Google and IBM, who may monopolise the market. nSome argue that this use of supercomputers is a return to the time of mainframe computing that the PC was a reaction against.Security could prove to be a big issue:nIt is still unclear how safe out-sourced data to SaaS is and when using these services ownership of data in SaaS is not always clear.There are also issues relating to policy and access: nIf your data is stored abroad whose policy do you adhere to? nWhat happens if the remote server goes down? nHow will you then access files? nThere have been cases of users being locked out of accounts and losing access to data.Advantages of Cloud ComputingIaaS leads to lower computer costs: You do not need a high-powered and high-priced computer to run cloud computing's web-based applications. Since applications run in the cloud, not on the desktop PC, your desktop PC does not need the processing power or hard disk space demanded by traditional desktop software. When you are using web-based applications, your PC can be less expensive, with a smaller hard disk, less memory, more efficient processor... In fact, your PC in this scenario does not even need a CD or DVD drive, as no software programs have to be loaded and no document files need to be saved.Advantages of Cloud ComputingIaaS leads to unlimited storage capacity:Cloud computing offers virtually limitless storage. Your computer's current 1 Tbytehard drive is small compared to the hundreds of Pbytesavailable in the cloud.IaaS leads to increased data reliability:Unlike desktop computing, in which if a hard disk crashes and destroy all your valuable data, a computer crashing in the cloud should not affect the storage of your data.if your personal computer crashes, all your data is still out there in the cloud, still accessibleIn a world where few individual desktop PC users back up their data on a regular basis, cloud computing is a data-safe computing platform!Advantages of Cloud ComputingPaaS leads to improved performance:With few large programs hogging your computer's memory, you will see better performance from your PC. Computers in a cloud computing system boot and run faster because they have fewer programs and processes loaded into memory…SaaS leads to reduced software costs: Instead of purchasing expensive software applications, you can get most of what you need for free-ish!-most cloud computing applications today, such as the Google Docs suite.Better than paying for similar commercial software-which alone may be justification for switching to cloud applications.Advantages of Cloud ComputingPaaS and SaaS take care of instant software updates:Another advantage to cloud computing is that you are no longer faced with choosing between obsolete software and high upgrade costs.With web-based applications (i.e., SaaS), updates happen automatically -available the next time you log into the cloud. When you access a web-based application, you get the latest version -without needing to pay for or download an upgrade.SaaS leads to improved document format compatibility. You do not have to worry about the documents you create on your machine being compatible with other users' applications or OSesThere are potentially no format incompatibilities when everyone is sharing documents and applications in the cloud.Advantages of Cloud ComputingSaaS leads to universal document access:That is not a problem with cloud computing, because you do not take your documents with you. Instead, they stay in the cloud, and you can access them whenever you have a computer and an Internet connectionDocuments are instantly available from wherever you areSaaS leads to latest version availability:When you edit a document at home, that edited version is what you see when you access the document at work. The cloud always hosts the latest version of your documents-as long as you are connected, you are not in danger of having an outdated versionAdvantages of Cloud ComputingSaaS leads to easier group collaboration:Sharing documents leads directly to better collaboration.Many users do this as it is an important advantages of cloud computingnmultiple users can collaborate easily on documents and projectsDevice independence. You are no longer tethered to a single computer or network. Changes to computers, applications and documents follow you through the cloud. Move to a portable device, and your applications and documents are still available.Disadvantages of Cloud ComputingRequires a constant Internet connection:Cloud computing is impossible if you cannot connect to the Internet. Since you use the Internet to connect to both your applications and documents, if you do not have an Internet connection you cannot access anything, even your own documents. A dead Internet connection means no work and in areas where Internet connections are few or inherently unreliable, this could be a deal-breaker. Disadvantages of Cloud ComputingDoes not work well with low-speed connections: Similarly, a low-speed Internet connection, such as that found with dial-up services, makes cloud computing painful at best and often impossible. Web-based applications require a lot of bandwidth to download, as do large documents. Features might be limited:This situation is bound to change, but today many web-based applications simply are not as full-featured as their desktop-based applications.nFor example, you can do a lot more with Microsoft PowerPoint than with Google Presentation's web-based offeringDisadvantages of Cloud ComputingCan be slow:Even with a fast connection, web-based applications can sometimes be slower than accessing a similar software program on your desktop PC. Everything about the program, from the interface to the current document, has to be sent back and forth from your computer to the computers in the cloud. If the cloud servers happen to be backed up at that moment, or if the Internet is having a slow day, you would not get the instantaneous access you might expect from desktop applications.Disadvantages of Cloud ComputingStored data might not be secure:With cloud computing, all your data is stored on the cloud. nThe questions is How secure is the cloud? Can unauthorisedusers gain access to your confidential data? Stored data can be lost:Theoretically, data stored in the cloud is safe, replicated across multiple machines. But on the off chance that your data goes missing, you have no physical or local backup. Put simply, relying on the cloud puts you at risk if the cloud lets you down.Disadvantages of Cloud ComputingHPC Systems:Not clear that you can run compute-intensive HPC applications that use MPI/OpenMP!Scheduling is important with this type of applicationnas you want all the VM to be co-located to minimize communication latency!General Concerns:Each cloud systems uses different protocols and different APIs-may not be possible to run applications between cloud based systemsAmazon has created its own DB system (not SQL), and workflow system (many popular workflow systems out there)-so your normal applications will have to be adapted to execute on these platforms.\n",
      "------------\n",
      "\n",
      "Create questions in an MCQ format with 4 possible solutions that will prepare the students for their tests. The output specifications are as follows:\n",
      "'question', 'possible_answers', 'correct_answer', 'explanation'. Separate the questions with a '*'.\n",
      "Make sure not to lose any important information.\n",
      "\n",
      "QUESTIONS:\n",
      "\u001b[0m\n",
      "\n",
      "\u001b[1m> Finished chain.\u001b[0m\n",
      "\n",
      "\u001b[1m> Finished chain.\u001b[0m\n"
     ]
    }
   ],
   "source": [
    "import ast\n",
    "ques_gen_chain = load_summarize_chain(llm = question_llm, \n",
    "                                            chain_type = \"refine\", \n",
    "                                            verbose = True, \n",
    "                                            question_prompt=PROMPT_QUESTIONS, \n",
    "                                            refine_prompt=REFINE_PROMPT_QUESTIONS)\n",
    "\n",
    "# Outputs a list of questions\n",
    "ques = ques_gen_chain.run(document_ques_gen)\n",
    "ques_list = ques.split(\",\\n'*',\\n\")\n",
    "formatted_ques_list = []\n",
    "for i, q in enumerate(ques_list):\n",
    "    f_q = ast.literal_eval(q)\n",
    "    formatted_ques_list.append(f_q)\n",
    "    # print(f_q)\n",
    "\n",
    "    \n",
    "# ques_list = ques.split(\"\\n\")\n",
    "# filtered_ques_list = [element for element in ques_list if element.endswith('?') or element.endswith('.')]"
   ]
  },
  {
   "cell_type": "code",
   "execution_count": null,
   "metadata": {},
   "outputs": [],
   "source": []
  },
  {
   "cell_type": "code",
   "execution_count": null,
   "metadata": {},
   "outputs": [],
   "source": []
  },
  {
   "cell_type": "code",
   "execution_count": 107,
   "metadata": {},
   "outputs": [],
   "source": [
    "# Answer generation\n",
    "# retriever = VectorStoreRetriever(vectorstore=db)\n",
    "# answer_gen_chain = RetrievalQA.from_llm(llm = answer_llm, retriever=db.as_retriever())"
   ]
  },
  {
   "cell_type": "markdown",
   "metadata": {},
   "source": [
    "# Output CSV"
   ]
  },
  {
   "cell_type": "code",
   "execution_count": 152,
   "metadata": {},
   "outputs": [],
   "source": [
    "import os\n",
    "import csv\n",
    "\n",
    "fields = formatted_ques_list[0].keys()\n",
    "\n",
    "base_folder = 'static/output/'\n",
    "if not os.path.isdir(base_folder):\n",
    "    os.mkdir(base_folder)\n",
    "output_file = base_folder+\"QA.csv\"\n",
    "with open(output_file, \"w\", newline=\"\", encoding=\"utf-8\") as csvfile:\n",
    "    writer = csv.DictWriter(csvfile, fieldnames=fields)\n",
    "\n",
    "    writer.writeheader()\n",
    "\n",
    "    for q in formatted_ques_list:\n",
    "        writer.writerow(q)\n",
    "\n",
    "\n",
    "    # csv_writer = csv.writer(csvfile)\n",
    "    # csv_writer.writerow([\"Question\", \"Answer\"])  # Writing the header row\n",
    "\n",
    "    # for question in filtered_ques_list:\n",
    "    #     print(\"Question: \", question)\n",
    "    #     answer = answer_gen_chain.run(question)\n",
    "    #     print(\"Answer: \", answer)\n",
    "    #     print(\"--------------------------------------------------\\n\\n\")\n",
    "\n",
    "    #     # Save answer to CSV file\n",
    "    #     csv_writer.writerow([question, answer])"
   ]
  },
  {
   "cell_type": "code",
   "execution_count": null,
   "metadata": {},
   "outputs": [],
   "source": []
  }
 ],
 "metadata": {
  "kernelspec": {
   "display_name": "venv",
   "language": "python",
   "name": "python3"
  },
  "language_info": {
   "codemirror_mode": {
    "name": "ipython",
    "version": 3
   },
   "file_extension": ".py",
   "mimetype": "text/x-python",
   "name": "python",
   "nbconvert_exporter": "python",
   "pygments_lexer": "ipython3",
   "version": "3.10.6"
  }
 },
 "nbformat": 4,
 "nbformat_minor": 2
}
